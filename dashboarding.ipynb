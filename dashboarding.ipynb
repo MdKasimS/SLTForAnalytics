{
 "cells": [
  {
   "cell_type": "code",
   "execution_count": 3,
   "metadata": {},
   "outputs": [],
   "source": [
    "import os\n",
    "import pandas as pd\n",
    "import numpy as np\n",
    "import matplotlib.pyplot as plt\n"
   ]
  },
  {
   "cell_type": "code",
   "execution_count": 4,
   "metadata": {},
   "outputs": [],
   "source": [
    "data = pd.read_csv(\"MovieMasterData.csv\")"
   ]
  },
  {
   "cell_type": "code",
   "execution_count": 5,
   "metadata": {},
   "outputs": [
    {
     "data": {
      "text/html": [
       "<div>\n",
       "<style scoped>\n",
       "    .dataframe tbody tr th:only-of-type {\n",
       "        vertical-align: middle;\n",
       "    }\n",
       "\n",
       "    .dataframe tbody tr th {\n",
       "        vertical-align: top;\n",
       "    }\n",
       "\n",
       "    .dataframe thead th {\n",
       "        text-align: right;\n",
       "    }\n",
       "</style>\n",
       "<table border=\"1\" class=\"dataframe\">\n",
       "  <thead>\n",
       "    <tr style=\"text-align: right;\">\n",
       "      <th></th>\n",
       "      <th>MovieID</th>\n",
       "      <th>MovieName</th>\n",
       "      <th>Genre</th>\n",
       "      <th>DirectorName</th>\n",
       "      <th>ProducerName</th>\n",
       "      <th>Language</th>\n",
       "      <th>Story</th>\n",
       "      <th>Duration</th>\n",
       "      <th>ID</th>\n",
       "    </tr>\n",
       "  </thead>\n",
       "  <tbody>\n",
       "    <tr>\n",
       "      <th>0</th>\n",
       "      <td>To-Bo-An-en</td>\n",
       "      <td>Toy Story</td>\n",
       "      <td>Animation-Comedy-Family</td>\n",
       "      <td>John Lasseter</td>\n",
       "      <td>Bonnie Arnold</td>\n",
       "      <td>en</td>\n",
       "      <td>Led by Woody, Andy's toys live happily in his ...</td>\n",
       "      <td>81.0</td>\n",
       "      <td>862</td>\n",
       "    </tr>\n",
       "    <tr>\n",
       "      <th>1</th>\n",
       "      <td>Ju-Sc-Ad-en</td>\n",
       "      <td>Jumanji</td>\n",
       "      <td>Adventure-Fantasy-Family</td>\n",
       "      <td>Joe Johnston</td>\n",
       "      <td>Scott Kroopf</td>\n",
       "      <td>en</td>\n",
       "      <td>When siblings Judy and Peter discover an encha...</td>\n",
       "      <td>104.0</td>\n",
       "      <td>8844</td>\n",
       "    </tr>\n",
       "    <tr>\n",
       "      <th>2</th>\n",
       "      <td>Wa-Ro-Co-en</td>\n",
       "      <td>Waiting to Exhale</td>\n",
       "      <td>Comedy-Drama-Romance</td>\n",
       "      <td>Forest Whitaker</td>\n",
       "      <td>Ronald Bass</td>\n",
       "      <td>en</td>\n",
       "      <td>Cheated on, mistreated and stepped on, the wom...</td>\n",
       "      <td>127.0</td>\n",
       "      <td>31357</td>\n",
       "    </tr>\n",
       "    <tr>\n",
       "      <th>3</th>\n",
       "      <td>Fa-Na-Co-en</td>\n",
       "      <td>Father of the Bride Part II</td>\n",
       "      <td>Comedy</td>\n",
       "      <td>Charles Shyer</td>\n",
       "      <td>Nancy Meyers</td>\n",
       "      <td>en</td>\n",
       "      <td>Just when George Banks has recovered from his ...</td>\n",
       "      <td>106.0</td>\n",
       "      <td>11862</td>\n",
       "    </tr>\n",
       "    <tr>\n",
       "      <th>4</th>\n",
       "      <td>He-Ar-Ac-en</td>\n",
       "      <td>Heat</td>\n",
       "      <td>Action-Crime-Drama-Thriller</td>\n",
       "      <td>Michael Mann</td>\n",
       "      <td>Art Linson</td>\n",
       "      <td>en</td>\n",
       "      <td>Obsessive master thief, Neil McCauley leads a ...</td>\n",
       "      <td>170.0</td>\n",
       "      <td>949</td>\n",
       "    </tr>\n",
       "  </tbody>\n",
       "</table>\n",
       "</div>"
      ],
      "text/plain": [
       "       MovieID                    MovieName                        Genre  \\\n",
       "0  To-Bo-An-en                    Toy Story      Animation-Comedy-Family   \n",
       "1  Ju-Sc-Ad-en                      Jumanji     Adventure-Fantasy-Family   \n",
       "2  Wa-Ro-Co-en            Waiting to Exhale         Comedy-Drama-Romance   \n",
       "3  Fa-Na-Co-en  Father of the Bride Part II                       Comedy   \n",
       "4  He-Ar-Ac-en                         Heat  Action-Crime-Drama-Thriller   \n",
       "\n",
       "      DirectorName   ProducerName Language  \\\n",
       "0    John Lasseter  Bonnie Arnold       en   \n",
       "1     Joe Johnston   Scott Kroopf       en   \n",
       "2  Forest Whitaker    Ronald Bass       en   \n",
       "3    Charles Shyer   Nancy Meyers       en   \n",
       "4     Michael Mann     Art Linson       en   \n",
       "\n",
       "                                               Story  Duration     ID  \n",
       "0  Led by Woody, Andy's toys live happily in his ...      81.0    862  \n",
       "1  When siblings Judy and Peter discover an encha...     104.0   8844  \n",
       "2  Cheated on, mistreated and stepped on, the wom...     127.0  31357  \n",
       "3  Just when George Banks has recovered from his ...     106.0  11862  \n",
       "4  Obsessive master thief, Neil McCauley leads a ...     170.0    949  "
      ]
     },
     "execution_count": 5,
     "metadata": {},
     "output_type": "execute_result"
    }
   ],
   "source": [
    "data.head()"
   ]
  },
  {
   "cell_type": "code",
   "execution_count": 6,
   "metadata": {},
   "outputs": [
    {
     "data": {
      "text/plain": [
       "73"
      ]
     },
     "execution_count": 6,
     "metadata": {},
     "output_type": "execute_result"
    }
   ],
   "source": [
    "len(data[\"Language\"].unique())"
   ]
  },
  {
   "cell_type": "code",
   "execution_count": 7,
   "metadata": {},
   "outputs": [
    {
     "data": {
      "text/plain": [
       "8951"
      ]
     },
     "execution_count": 7,
     "metadata": {},
     "output_type": "execute_result"
    }
   ],
   "source": [
    "len(data[\"DirectorName\"].unique())"
   ]
  },
  {
   "cell_type": "code",
   "execution_count": 8,
   "metadata": {},
   "outputs": [
    {
     "data": {
      "text/plain": [
       "9958"
      ]
     },
     "execution_count": 8,
     "metadata": {},
     "output_type": "execute_result"
    }
   ],
   "source": [
    "len(data[\"ProducerName\"].unique())"
   ]
  },
  {
   "cell_type": "code",
   "execution_count": 9,
   "metadata": {},
   "outputs": [],
   "source": [
    "comedy = 0 \n",
    "action = 0\n",
    "crime = 0\n",
    "romance = 0\n",
    "thriller = 0\n",
    "animation = 0\n",
    "drama = 0"
   ]
  },
  {
   "cell_type": "code",
   "execution_count": 10,
   "metadata": {},
   "outputs": [],
   "source": [
    "cnt =0\n",
    "for i in data[\"Genre\"]:\n",
    "    # if cnt<10:\n",
    "        \n",
    "        if \"Comedy\" in i:\n",
    "            comedy+=1\n",
    "        if \"Drama\" in i:\n",
    "            drama+=1\n",
    "        if \"Romance\" in i:\n",
    "            romance+=1\n",
    "        if \"Animation\" in i:\n",
    "            animation+=1\n",
    "        if \"Thriller\" in i:\n",
    "            thriller+=1\n",
    "        if \"Action\" in i:\n",
    "            action+=1\n",
    "        if \"Crime\" in i:\n",
    "            crime+=1\n",
    "\n",
    "        # cnt+=1"
   ]
  },
  {
   "cell_type": "code",
   "execution_count": 11,
   "metadata": {},
   "outputs": [
    {
     "name": "stdout",
     "output_type": "stream",
     "text": [
      "30761\n"
     ]
    }
   ],
   "source": [
    "total = action + animation + comedy + crime + romance + drama + thriller\n",
    "perConst = 100/total\n",
    "print(total)"
   ]
  },
  {
   "cell_type": "code",
   "execution_count": 12,
   "metadata": {},
   "outputs": [],
   "source": [
    "def roundIt(val):\n",
    "    return round(val*perConst, 2)"
   ]
  },
  {
   "cell_type": "code",
   "execution_count": 13,
   "metadata": {},
   "outputs": [
    {
     "name": "stdout",
     "output_type": "stream",
     "text": [
      "Comedy :  19.6\n",
      "Action :  12.03\n",
      "Animation :  2.62\n",
      "Thriller :  14.43\n",
      "Drama :  32.41\n",
      "Romance :  10.81\n",
      "Crime :  8.08\n"
     ]
    }
   ],
   "source": [
    "print(\"Comedy : \", roundIt(comedy))\n",
    "print(\"Action : \", roundIt(action))\n",
    "print(\"Animation : \", roundIt(animation))\n",
    "print(\"Thriller : \", roundIt(thriller))\n",
    "print(\"Drama : \", roundIt(drama))\n",
    "print(\"Romance : \", roundIt(romance))\n",
    "print(\"Crime : \", roundIt(crime))"
   ]
  },
  {
   "cell_type": "code",
   "execution_count": 14,
   "metadata": {},
   "outputs": [],
   "source": [
    "# import streamlit as st\n",
    "# import pandas as pd\n",
    "# import matplotlib.pyplot as plt\n",
    "\n",
    "\n",
    "# data = {'City': ['New York', 'Chicago', 'San Francisco', 'Boston', 'Seattle'],\n",
    "#         'Population': [8623000, 2700000, 883305, 692600, 769714]}\n",
    "\n",
    "# # Create a pandas DataFrame from the data\n",
    "# df = pd.DataFrame(data)\n",
    "\n",
    "# # Set the index to the 'City' column\n",
    "# df.set_index('City', inplace=True)\n",
    "\n",
    "# # Create a bar chart using the DataFrame and matplotlib\n",
    "# fig, ax = plt.subplots()\n",
    "# df.plot(kind='bar', ax=ax)\n",
    "\n",
    "# # Set the y-axis to integers of interval 200\n",
    "# ax.set_yticks(range(0, max(df['Population'])+1, 200))\n",
    "\n",
    "# # Set the x-axis and y-axis labels\n",
    "# plt.xlabel('City')\n",
    "# plt.ylabel('Population')\n",
    "\n",
    "# # Render the chart using Streamlit\n",
    "# # st.pyplot(fig)"
   ]
  },
  {
   "cell_type": "code",
   "execution_count": 19,
   "metadata": {},
   "outputs": [
    {
     "data": {
      "image/png": "[encoded data removed]",
      "text/plain": [
       "<Figure size 640x480 with 1 Axes>"
      ]
     },
     "metadata": {},
     "output_type": "display_data"
    }
   ],
   "source": [
    "data = [action, animation, comedy , crime , romance , drama , thriller]\n",
    "labels = ['A', 'B', 'C', 'D', 'E', 'F', 'G']\n",
    "\n",
    "plt.pie(data, labels=labels)\n",
    "plt.title('My Pie Chart')\n",
    "plt.legend(title='Categories', loc='best')\n",
    "plt.show()"
   ]
  },
  {
   "cell_type": "code",
   "execution_count": null,
   "metadata": {},
   "outputs": [],
   "source": []
  }
 ],
 "metadata": {
  "kernelspec": {
   "display_name": ".venv",
   "language": "python",
   "name": "python3"
  },
  "language_info": {
   "codemirror_mode": {
    "name": "ipython",
    "version": 3
   },
   "file_extension": ".py",
   "mimetype": "text/x-python",
   "name": "python",
   "nbconvert_exporter": "python",
   "pygments_lexer": "ipython3",
   "version": "3.10.10"
  },
  "orig_nbformat": 4
 },
 "nbformat": 4,
 "nbformat_minor": 2
}
